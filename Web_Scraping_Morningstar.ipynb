{
 "cells": [
  {
   "cell_type": "code",
   "execution_count": 5,
   "metadata": {},
   "outputs": [],
   "source": [
    "from selenium import webdriver\n",
    "from selenium.webdriver.common.keys import Keys\n",
    "from bs4 import BeautifulSoup\n",
    "import re\n",
    "import pandas as pd\n",
    "import os\n",
    "import requests\n",
    "from pprint import pprint\n",
    "from selenium.webdriver.chrome.options import Options\n",
    "from selenium.webdriver.support.ui import WebDriverWait\n",
    "from selenium.webdriver.common.by import By\n",
    "from selenium.webdriver.support import expected_conditions as EC\n",
    "from urllib.request import urlopen\n",
    "from selenium.common.exceptions import NoSuchElementException    \n",
    "from selenium.webdriver.common.by import By\n",
    "from selenium.webdriver.common.desired_capabilities import DesiredCapabilities\n",
    "from selenium.webdriver.firefox.firefox_binary import FirefoxBinary\n",
    "import time\n",
    "from selenium.webdriver.support.ui import Select\n",
    "from selenium.common.exceptions import NoSuchElementException   "
   ]
  },
  {
   "cell_type": "code",
   "execution_count": 6,
   "metadata": {},
   "outputs": [],
   "source": [
    "data=pd.read_excel(r'C:\\Users\\aaparajit\\Desktop\\Projects\\Marijuana Related Securities\\Marijuana Test.xlsx',sheet_name=0,header=0)\n"
   ]
  },
  {
   "cell_type": "code",
   "execution_count": 7,
   "metadata": {},
   "outputs": [
    {
     "data": {
      "text/html": [
       "<div>\n",
       "<style scoped>\n",
       "    .dataframe tbody tr th:only-of-type {\n",
       "        vertical-align: middle;\n",
       "    }\n",
       "\n",
       "    .dataframe tbody tr th {\n",
       "        vertical-align: top;\n",
       "    }\n",
       "\n",
       "    .dataframe thead th {\n",
       "        text-align: right;\n",
       "    }\n",
       "</style>\n",
       "<table border=\"1\" class=\"dataframe\">\n",
       "  <thead>\n",
       "    <tr style=\"text-align: right;\">\n",
       "      <th></th>\n",
       "      <th>U.S. Symbol</th>\n",
       "      <th>CUSIP</th>\n",
       "      <th>Security Name</th>\n",
       "    </tr>\n",
       "  </thead>\n",
       "  <tbody>\n",
       "    <tr>\n",
       "      <th>0</th>\n",
       "      <td>TLRY</td>\n",
       "      <td>88688T100</td>\n",
       "      <td>TILRAY INCORPORATED COM CLASS 2</td>\n",
       "    </tr>\n",
       "    <tr>\n",
       "      <th>1</th>\n",
       "      <td>ACB</td>\n",
       "      <td>05156X108</td>\n",
       "      <td>AURORA CANNABIS INCORPORATED</td>\n",
       "    </tr>\n",
       "    <tr>\n",
       "      <th>2</th>\n",
       "      <td>CRON</td>\n",
       "      <td>22717L101</td>\n",
       "      <td>CRONOS GROUP INCORPORATED</td>\n",
       "    </tr>\n",
       "    <tr>\n",
       "      <th>3</th>\n",
       "      <td>NEPT</td>\n",
       "      <td>64079L105</td>\n",
       "      <td>NEPTUNE WELLNESS SOLUTIONS INCORPORATED</td>\n",
       "    </tr>\n",
       "    <tr>\n",
       "      <th>4</th>\n",
       "      <td>HEXO</td>\n",
       "      <td>428304109</td>\n",
       "      <td>HEXO CORPORATION</td>\n",
       "    </tr>\n",
       "  </tbody>\n",
       "</table>\n",
       "</div>"
      ],
      "text/plain": [
       "  U.S. Symbol      CUSIP                            Security Name\n",
       "0        TLRY  88688T100          TILRAY INCORPORATED COM CLASS 2\n",
       "1         ACB  05156X108             AURORA CANNABIS INCORPORATED\n",
       "2        CRON  22717L101                CRONOS GROUP INCORPORATED\n",
       "3        NEPT  64079L105  NEPTUNE WELLNESS SOLUTIONS INCORPORATED\n",
       "4        HEXO  428304109                         HEXO CORPORATION"
      ]
     },
     "execution_count": 7,
     "metadata": {},
     "output_type": "execute_result"
    }
   ],
   "source": [
    "data.head()"
   ]
  },
  {
   "cell_type": "code",
   "execution_count": 13,
   "metadata": {},
   "outputs": [],
   "source": [
    "consolidated_data=pd.DataFrame()\n",
    "for i in range(len(data)):\n",
    "    symbol= data['U.S. Symbol'][i]\n",
    "    cap = DesiredCapabilities().FIREFOX\n",
    "    cap[\"marionette\"] = True\n",
    "    firefox_profile = webdriver.FirefoxProfile()\n",
    "    firefox_profile.set_preference('permissions.default.image', 2)\n",
    "    firefox_profile.set_preference('dom.ipc.plugins.enabled.libflashplayer.so', 'false')\n",
    "    firefox_profile.set_preference(\"browser.tabs.remote.autostart\", False)\n",
    "    firefox_profile.set_preference(\"browser.tabs.remote.autostart.1\", False)\n",
    "    firefox_profile.set_preference(\"browser.tabs.remote.autostart.2\", False)\n",
    "    binary = FirefoxBinary('C:/Users/aaparajit/AppData/Local/Mozilla Firefox/firefox.exe')\n",
    "    driver= webdriver.Firefox(firefox_profile=firefox_profile,capabilities=cap,firefox_binary=binary,executable_path='C:/geckodriver-v0.24.0-win64/geckodriver.exe')\n",
    "    search_query = symbol+\" \"+\"Morningstar\"+\" \"+\"Ownership\"\n",
    "    driver.get(\"https://www.google.com/\")\n",
    "    search = driver.find_element_by_name('q')\n",
    "    search.send_keys(search_query)\n",
    "    search.send_keys(Keys.ENTER)\n",
    "    time.sleep(5)\n",
    "    try:\n",
    "        matched_elements = driver.find_elements_by_xpath('//a[starts-with(@href, \"https://www.morningstar.com\")]')\n",
    "        if matched_elements:\n",
    "            matched_elements[0].click()\n",
    "            driver.implicitly_wait(40)\n",
    "            time.sleep(7)\n",
    "            try:\n",
    "                driver.find_element_by_xpath('/html/body/div[3]/main/div/div/section[4]/nav/div[2]/ul/li[8]/div/button').click() \n",
    "                time.sleep(10)\n",
    "                lt = driver.find_elements_by_class_name('fixed-table')\n",
    "                lt2=driver.find_elements_by_class_name('totalAssets')\n",
    "                mf=[] \n",
    "                mf_asset=[]\n",
    "                for a in range(len(lt)):\n",
    "                        mf.append(lt[a].text.splitlines())     \n",
    "                for a in range(len(lt2)):\n",
    "                        mf_asset.append(lt2[a].text.splitlines())\n",
    "                for j in range(len(mf[1][1:len(mf[1])-1])):\n",
    "                        consolidated_data=consolidated_data.append({'Ticker':symbol,'MF':mf[1][1:len(mf[1])-1][j],'Share':mf_asset[2:len(mf_asset)-1][j]},ignore_index=True)\n",
    "                driver.quit()\n",
    "            except:\n",
    "                pass\n",
    "        if not matched_elements:\n",
    "            driver.quit()\n",
    "    except:\n",
    "        pass"
   ]
  },
  {
   "cell_type": "code",
   "execution_count": 14,
   "metadata": {},
   "outputs": [],
   "source": [
    "consolidated_data.to_csv(r'C:\\Users\\aaparajit\\Desktop\\MF_holdings.csv',encoding='utf-8', index=False)"
   ]
  },
  {
   "cell_type": "code",
   "execution_count": 15,
   "metadata": {},
   "outputs": [
    {
     "data": {
      "text/html": [
       "<div>\n",
       "<style scoped>\n",
       "    .dataframe tbody tr th:only-of-type {\n",
       "        vertical-align: middle;\n",
       "    }\n",
       "\n",
       "    .dataframe tbody tr th {\n",
       "        vertical-align: top;\n",
       "    }\n",
       "\n",
       "    .dataframe thead th {\n",
       "        text-align: right;\n",
       "    }\n",
       "</style>\n",
       "<table border=\"1\" class=\"dataframe\">\n",
       "  <thead>\n",
       "    <tr style=\"text-align: right;\">\n",
       "      <th></th>\n",
       "      <th>MF</th>\n",
       "      <th>Share</th>\n",
       "      <th>Ticker</th>\n",
       "    </tr>\n",
       "  </thead>\n",
       "  <tbody>\n",
       "    <tr>\n",
       "      <th>0</th>\n",
       "      <td>ETFMG Alternative Harvest ETF</td>\n",
       "      <td>[6.15]</td>\n",
       "      <td>TLRY</td>\n",
       "    </tr>\n",
       "    <tr>\n",
       "      <th>1</th>\n",
       "      <td>Horizons Marijuana Life Sciences ETF</td>\n",
       "      <td>[9.71]</td>\n",
       "      <td>TLRY</td>\n",
       "    </tr>\n",
       "    <tr>\n",
       "      <th>2</th>\n",
       "      <td>Virtus Zevenbergen Innovative Gr Stk A</td>\n",
       "      <td>[3.59]</td>\n",
       "      <td>TLRY</td>\n",
       "    </tr>\n",
       "    <tr>\n",
       "      <th>3</th>\n",
       "      <td>I.B.I TRK Solactive N.Amer Cannabis $Hdg</td>\n",
       "      <td>[7.47]</td>\n",
       "      <td>TLRY</td>\n",
       "    </tr>\n",
       "    <tr>\n",
       "      <th>4</th>\n",
       "      <td>Federated Kaufmann Small Cap A</td>\n",
       "      <td>[0.09]</td>\n",
       "      <td>TLRY</td>\n",
       "    </tr>\n",
       "  </tbody>\n",
       "</table>\n",
       "</div>"
      ],
      "text/plain": [
       "                                         MF   Share Ticker\n",
       "0             ETFMG Alternative Harvest ETF  [6.15]   TLRY\n",
       "1      Horizons Marijuana Life Sciences ETF  [9.71]   TLRY\n",
       "2    Virtus Zevenbergen Innovative Gr Stk A  [3.59]   TLRY\n",
       "3  I.B.I TRK Solactive N.Amer Cannabis $Hdg  [7.47]   TLRY\n",
       "4            Federated Kaufmann Small Cap A  [0.09]   TLRY"
      ]
     },
     "execution_count": 15,
     "metadata": {},
     "output_type": "execute_result"
    }
   ],
   "source": [
    "consolidated_data.head()"
   ]
  },
  {
   "cell_type": "code",
   "execution_count": null,
   "metadata": {},
   "outputs": [],
   "source": []
  }
 ],
 "metadata": {
  "kernelspec": {
   "display_name": "Python 3",
   "language": "python",
   "name": "python3"
  },
  "language_info": {
   "codemirror_mode": {
    "name": "ipython",
    "version": 3
   },
   "file_extension": ".py",
   "mimetype": "text/x-python",
   "name": "python",
   "nbconvert_exporter": "python",
   "pygments_lexer": "ipython3",
   "version": "3.6.5"
  }
 },
 "nbformat": 4,
 "nbformat_minor": 2
}
